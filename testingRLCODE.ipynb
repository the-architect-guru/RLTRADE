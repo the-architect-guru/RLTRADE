{
 "cells": [
  {
   "cell_type": "code",
   "execution_count": null,
   "id": "64168a37-78e7-4662-ad72-516a2ce865c8",
   "metadata": {},
   "outputs": [],
   "source": [
    "import pandas as pd\n",
    "from trading_env import TradingEnv\n",
    "from dqn_agent import DQNAgent\n",
    "\n",
    "# Load your trading data\n",
    "data = pd.read_csv('your_trading_data.csv')\n",
    "\n",
    "env = TradingEnv(data)\n",
    "state_dim = env.observation_space.shape[0]\n",
    "action_dim = env.action_space.n\n",
    "agent = DQNAgent(state_dim, action_dim)\n",
    "\n",
    "# Load trained model weights\n",
    "agent.model.load_state_dict(torch.load('dqn_model.pth'))\n",
    "\n",
    "state = env.reset()\n",
    "total_reward = 0\n",
    "for time in range(len(data)):\n",
    "    action = agent.act(state)\n",
    "    next_state, reward, done, _ = env.step(action)\n",
    "    total_reward += reward\n",
    "    state = next_state\n",
    "    if done:\n",
    "        break\n",
    "\n",
    "print(f\"Total Reward: {total_reward}\")"
   ]
  }
 ],
 "metadata": {
  "kernelspec": {
   "display_name": "Python 3 (ipykernel)",
   "language": "python",
   "name": "python3"
  },
  "language_info": {
   "codemirror_mode": {
    "name": "ipython",
    "version": 3
   },
   "file_extension": ".py",
   "mimetype": "text/x-python",
   "name": "python",
   "nbconvert_exporter": "python",
   "pygments_lexer": "ipython3",
   "version": "3.12.3"
  }
 },
 "nbformat": 4,
 "nbformat_minor": 5
}
