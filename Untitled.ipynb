{
 "cells": [
  {
   "cell_type": "code",
   "execution_count": 1,
   "id": "70f02f01-6b0c-44ba-8242-b4910d0a635d",
   "metadata": {},
   "outputs": [],
   "source": [
    "import pandas as pd\n",
    "from trading_env import TradingEnv\n",
    "from dqn_agent import DQNAgent\n",
    "\n",
    "import gymnasium as gym\n",
    "from gymnasium import spaces\n",
    "import numpy as np\n",
    "\n",
    "import torch\n",
    "import torch.nn as nn\n",
    "import torch.optim as optim\n",
    "import random\n",
    "\n",
    "from collections import deque"
   ]
  },
  {
   "cell_type": "code",
   "execution_count": null,
   "id": "da2a53bc-7423-42d8-8375-e13861f04680",
   "metadata": {},
   "outputs": [
    {
     "name": "stdout",
     "output_type": "stream",
     "text": [
      "Episode: 0/1000, Reward: -13404522.949209344\n",
      "Episode: 1/1000, Reward: -58550834.74299055\n",
      "Episode: 2/1000, Reward: -31667197.991709333\n",
      "Episode: 3/1000, Reward: 5551009.38369063\n",
      "Episode: 4/1000, Reward: 999646.8014999996\n",
      "Episode: 5/1000, Reward: 3522568.587109374\n",
      "Episode: 6/1000, Reward: 9746481.195300005\n",
      "Episode: 7/1000, Reward: 5092518.939009372\n",
      "Episode: 8/1000, Reward: 4287136.369000002\n",
      "Episode: 9/1000, Reward: 8656503.14889063\n",
      "Episode: 10/1000, Reward: 12445675.764100004\n",
      "Episode: 11/1000, Reward: 4156394.4547906322\n",
      "Episode: 12/1000, Reward: 3981211.841809371\n",
      "Episode: 13/1000, Reward: -1248694.8852999995\n",
      "Episode: 14/1000, Reward: 2321568.9525093706\n",
      "Episode: 15/1000, Reward: 11912978.312190633\n",
      "Episode: 16/1000, Reward: 4243747.930709368\n",
      "Episode: 17/1000, Reward: 5216618.864009367\n",
      "Episode: 18/1000, Reward: 22952757.19070002\n",
      "Episode: 19/1000, Reward: -2045229.670209371\n",
      "Episode: 20/1000, Reward: -5183740.60339063\n",
      "Episode: 21/1000, Reward: 9193842.498090627\n"
     ]
    }
   ],
   "source": [
    "# Load your trading data\n",
    "data = pd.read_csv('../../INDEXS_1D/NIFTY__1D__dec.csv')\n",
    "data.columns =['datetime', 'symbol', 'Open', 'High', 'Low', 'Close', 'volume']\n",
    "data = data[['Open', 'High', 'Low', 'Close']].dropna()\n",
    "\n",
    "env = TradingEnv(data)\n",
    "state_dim = env.observation_space.shape[0]\n",
    "action_dim = env.action_space.n\n",
    "agent = DQNAgent(state_dim, action_dim)\n",
    "\n",
    "episodes = 1000\n",
    "for e in range(episodes):\n",
    "    state = env.reset()\n",
    "    for time in range(len(data)):\n",
    "        action = agent.act(state)\n",
    "        next_state, reward, done, _ = env.step(action)\n",
    "        agent.remember(state, action, reward, next_state, done)\n",
    "        state = next_state\n",
    "        if done:\n",
    "            agent.update_target_model()\n",
    "            print(f\"Episode: {e}/{episodes}, Reward: {reward}\")\n",
    "            break\n",
    "        agent.replay()"
   ]
  },
  {
   "cell_type": "code",
   "execution_count": null,
   "id": "e333fd85-5b7d-41c4-8104-3f5dedd0b2cc",
   "metadata": {},
   "outputs": [],
   "source": []
  },
  {
   "cell_type": "code",
   "execution_count": null,
   "id": "8da3add7-7968-4b23-8536-bcfd6c8e28a3",
   "metadata": {},
   "outputs": [],
   "source": [
    "data = pd.read_csv('../../INDEXS_1D/NIFTY__1D__dec.csv')"
   ]
  },
  {
   "cell_type": "code",
   "execution_count": null,
   "id": "4a33e517-b19a-4ad2-be25-017569f95ca6",
   "metadata": {},
   "outputs": [],
   "source": [
    "data.columns =['datetime', 'symbol', 'Open', 'High', 'Low', 'Close', 'volume']"
   ]
  },
  {
   "cell_type": "code",
   "execution_count": null,
   "id": "b707569e-8c29-4c1f-b700-392fa09aea2c",
   "metadata": {},
   "outputs": [],
   "source": []
  }
 ],
 "metadata": {
  "kernelspec": {
   "display_name": "Python 3 (ipykernel)",
   "language": "python",
   "name": "python3"
  },
  "language_info": {
   "codemirror_mode": {
    "name": "ipython",
    "version": 3
   },
   "file_extension": ".py",
   "mimetype": "text/x-python",
   "name": "python",
   "nbconvert_exporter": "python",
   "pygments_lexer": "ipython3",
   "version": "3.12.3"
  }
 },
 "nbformat": 4,
 "nbformat_minor": 5
}
